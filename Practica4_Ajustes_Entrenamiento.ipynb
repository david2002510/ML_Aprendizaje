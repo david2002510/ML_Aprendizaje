{
  "nbformat": 4,
  "nbformat_minor": 0,
  "metadata": {
    "colab": {
      "provenance": [],
      "gpuType": "T4"
    },
    "kernelspec": {
      "name": "python3",
      "display_name": "Python 3"
    },
    "language_info": {
      "name": "python"
    },
    "accelerator": "GPU"
  },
  "cells": [
    {
      "cell_type": "code",
      "source": [
        "!pip install keras-tuner -q"
      ],
      "metadata": {
        "id": "KDzteRTKLjdr"
      },
      "execution_count": null,
      "outputs": []
    },
    {
      "cell_type": "markdown",
      "source": [
        "# 1 Ajuste del learning rate y batch size\n",
        "### Learning rate: principal hiperparámetro a ajustar en descenso por gradiente estocástico (SGD)\n",
        "### Batch size: otro hiperparámetro a ajustar muy importante"
      ],
      "metadata": {
        "id": "i9gu_i-ENqFp"
      }
    },
    {
      "cell_type": "code",
      "execution_count": null,
      "metadata": {
        "id": "wRF5YMzYEKfn"
      },
      "outputs": [],
      "source": [
        "import numpy as np; import matplotlib.pyplot as plt\n",
        "import os; os.environ['TF_CPP_MIN_LOG_LEVEL'] = '2'\n",
        "import keras; import keras_tuner\n",
        "keras.utils.set_random_seed(23); input_dim = 784; num_classes = 10\n",
        "(x_train_val, y_train_val), (x_test, y_test) = keras.datasets.mnist.load_data()\n",
        "x_train_val = x_train_val.reshape(-1, input_dim).astype(\"float32\") / 255.0\n",
        "x_test = x_test.reshape(-1, input_dim).astype(\"float32\") / 255.0\n",
        "y_train_val = keras.utils.to_categorical(y_train_val, num_classes)\n",
        "y_test = keras.utils.to_categorical(y_test, num_classes)\n",
        "x_train = x_train_val[:-10000]; x_val = x_train_val[-10000:]\n",
        "y_train = y_train_val[:-10000]; y_val = y_train_val[-10000:]"
      ]
    },
    {
      "cell_type": "markdown",
      "source": [
        "### MyHyperModel: tras pruebas informales, exploramos learning rate próximo a 0.0017 y batch size de 64, 128 o 256"
      ],
      "metadata": {
        "id": "mSZ8JlqbNz87"
      }
    },
    {
      "cell_type": "code",
      "source": [
        "class MyHyperModel(keras_tuner.HyperModel):\n",
        " def build(self, hp):\n",
        "  M = keras.Sequential()\n",
        "  M.add(keras.Input(shape=(784,)))\n",
        "  M.add(keras.layers.Dense(units=800, activation='relu'))\n",
        "  M.add(keras.layers.Dense(10, activation='softmax'))\n",
        "  learning_rate = hp.Float(\"lr\", min_value=0.0015, max_value=0.0019)\n",
        "  opt = keras.optimizers.Adam(learning_rate=learning_rate)\n",
        "  M.compile(loss=\"categorical_crossentropy\", optimizer=opt, metrics=[\"accuracy\"])\n",
        "  return M\n",
        " def fit(self, hp, M, x, y, xy_val, **kwargs):\n",
        "  bs = hp.Int(\"batch_size\", 64, 256, step=2, sampling=\"log\")\n",
        "  early_cb = keras.callbacks.EarlyStopping(monitor='val_accuracy', patience=10, min_delta=1e-5)\n",
        "  kwargs['callbacks'].append(early_cb)\n",
        "  return M.fit(x, y, batch_size=bs, epochs=100, validation_data=xy_val, **kwargs)"
      ],
      "metadata": {
        "id": "BQwrEiN0LH-8"
      },
      "execution_count": null,
      "outputs": []
    },
    {
      "cell_type": "markdown",
      "source": [
        "### Experimento: solo hacemos 3 experimentos para facilitar computacionalmente su reproducción"
      ],
      "metadata": {
        "id": "VJYw4Lf_N4gq"
      }
    },
    {
      "cell_type": "code",
      "source": [
        "tuner = keras_tuner.BayesianOptimization(\n",
        " MyHyperModel(), objective=\"val_accuracy\", max_trials=3,\n",
        " overwrite=True, directory=\"/tmp\", project_name=\"MNIST\")"
      ],
      "metadata": {
        "id": "nKadQGI1LNB5"
      },
      "execution_count": null,
      "outputs": []
    },
    {
      "cell_type": "code",
      "source": [
        "tuner.search(x_train, y_train, (x_val, y_val))"
      ],
      "metadata": {
        "colab": {
          "base_uri": "https://localhost:8080/"
        },
        "id": "Z_kNLPToL2_O",
        "outputId": "82d1407a-f5ae-43d4-c0a1-a752e44be01f"
      },
      "execution_count": null,
      "outputs": [
        {
          "output_type": "stream",
          "name": "stdout",
          "text": [
            "Trial 3 Complete [00h 00m 53s]\n",
            "val_accuracy: 0.984499990940094\n",
            "\n",
            "Best val_accuracy So Far: 0.9854999780654907\n",
            "Total elapsed time: 00h 02m 30s\n"
          ]
        }
      ]
    },
    {
      "cell_type": "code",
      "source": [
        "tuner.results_summary(num_trials=1)"
      ],
      "metadata": {
        "colab": {
          "base_uri": "https://localhost:8080/"
        },
        "id": "3XR8bZDEL7d5",
        "outputId": "bcf70dcd-b313-47be-f2e9-bc1ffe4d43d3"
      },
      "execution_count": null,
      "outputs": [
        {
          "output_type": "stream",
          "name": "stdout",
          "text": [
            "Results summary\n",
            "Results in /tmp/MNIST\n",
            "Showing 1 best trials\n",
            "Objective(name=\"val_accuracy\", direction=\"max\")\n",
            "\n",
            "Trial 1 summary\n",
            "Hyperparameters:\n",
            "lr: 0.0016787335100293622\n",
            "batch_size: 256\n",
            "Score: 0.9854999780654907\n"
          ]
        }
      ]
    },
    {
      "cell_type": "code",
      "source": [
        "best = tuner.get_best_models(num_models=1)[0]\n",
        "score = best.evaluate(x_test, y_test, verbose=0)\n",
        "print(f'Loss: {score[0]:.4}\\nPrecisión: {score[1]:.2%}')"
      ],
      "metadata": {
        "colab": {
          "base_uri": "https://localhost:8080/"
        },
        "id": "oFvNoKjzL_Pl",
        "outputId": "1499ac8b-177b-4270-beb9-1adfc4318791"
      },
      "execution_count": null,
      "outputs": [
        {
          "output_type": "stream",
          "name": "stderr",
          "text": [
            "/usr/local/lib/python3.10/dist-packages/keras/src/saving/saving_lib.py:576: UserWarning: Skipping variable loading for optimizer 'adam', because it has 2 variables whereas the saved optimizer has 10 variables. \n",
            "  saveable.load_own_variables(weights_store.get(inner_path))\n"
          ]
        },
        {
          "output_type": "stream",
          "name": "stdout",
          "text": [
            "Loss: 0.07691\n",
            "Precisión: 98.31%\n"
          ]
        }
      ]
    },
    {
      "cell_type": "markdown",
      "source": [
        "### Experimento (cont.): iteraciones adicionales con train_val y evaluación en test\n"
      ],
      "metadata": {
        "id": "5-kHgHjpOEi-"
      }
    },
    {
      "cell_type": "code",
      "source": [
        "opt = keras.optimizers.Adam(learning_rate=0.001)\n",
        "best.compile(loss=\"categorical_crossentropy\", optimizer=opt, metrics=[\"accuracy\"])\n",
        "H = best.fit(x_train_val, y_train_val, batch_size=256, epochs=10, validation_data=(x_test, y_test), verbose=0)\n",
        "score = best.evaluate(x_test, y_test, verbose=0)\n",
        "print(f'Loss: {score[0]:.4}\\nPrecisión: {score[1]:.2%}')\n"
      ],
      "metadata": {
        "colab": {
          "base_uri": "https://localhost:8080/"
        },
        "id": "BaV6GQsRMEwb",
        "outputId": "548e5b76-11d3-450d-9b33-9973ad2dda4f"
      },
      "execution_count": null,
      "outputs": [
        {
          "output_type": "stream",
          "name": "stdout",
          "text": [
            "Loss: 0.07699\n",
            "Precisión: 98.49%\n"
          ]
        }
      ]
    },
    {
      "cell_type": "code",
      "source": [
        "fig, axes = plt.subplots(1, 2, figsize=(9, 3.5))\n",
        "fig.tight_layout(); plt.subplots_adjust(wspace=0.3)\n",
        "xx = np.arange(1, len(H.history['loss'])+1)\n",
        "ax = axes[0]; ax.grid(); ax.set_xlabel('epoch'); ax.set_ylabel('loss')\n",
        "ax.plot(xx, H.history['loss'], color='b', marker='s')\n",
        "ax.plot(xx, H.history['val_loss'], color='r', marker='s')\n",
        "ax = axes[1]; ax.grid(); ax.set_xlabel('epoch'); ax.set_ylabel('accuracy')\n",
        "ax.plot(xx, H.history['accuracy'], color='b', marker='s')\n",
        "ax.plot(xx, H.history['val_accuracy'], color='r', marker='s');"
      ],
      "metadata": {
        "colab": {
          "base_uri": "https://localhost:8080/",
          "height": 371
        },
        "id": "TiNd87WrMFgO",
        "outputId": "140cca6b-4116-468e-c740-4a7ff7371e2a"
      },
      "execution_count": null,
      "outputs": [
        {
          "output_type": "display_data",
          "data": {
            "text/plain": [
              "<Figure size 900x350 with 2 Axes>"
            ],
            "image/png": "[encoded data removed]"
          },
          "metadata": {}
        }
      ]
    },
    {
      "cell_type": "markdown",
      "source": [
        "# 2-Planificadores\n",
        "###  Función para modificar el learning rate a medida que SGD avanza\n"
      ],
      "metadata": {
        "id": "Y-VZAxrWML1g"
      }
    },
    {
      "cell_type": "code",
      "source": [],
      "metadata": {
        "id": "V66JCk8yMLXZ"
      },
      "execution_count": null,
      "outputs": []
    },
    {
      "cell_type": "code",
      "source": [],
      "metadata": {
        "id": "3zPTFKrDNdft"
      },
      "execution_count": null,
      "outputs": []
    }
  ]
}