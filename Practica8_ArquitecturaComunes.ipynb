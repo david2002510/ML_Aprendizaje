{
 "cells": [
  {
   "cell_type": "markdown",
   "metadata": {},
   "source": [
    "# Arqutecturas comunes:\n",
    "### 1. Arquitecturas comunes\n",
    "### 2. CIFAR-10\n",
    "### 3. Una CNN sencilla\n",
    "### 4. ResNet\n",
    "### 5. Transfer learning\n",
    "### 6. Fine-tuning"
   ]
  },
  {
   "cell_type": "markdown",
   "metadata": {},
   "source": [
    "# Ejercicio: realiza un experimento similar al de transfer learning con aumento de datos\n",
    "## Inicialización: librerías, semilla, lectura de CIFAR-10 y partición train-val-test"
   ]
  },
  {
   "cell_type": "code",
   "execution_count": 17,
   "metadata": {},
   "outputs": [
    {
     "name": "stdout",
     "output_type": "stream",
     "text": [
      "(40000, 32, 32, 3) (40000, 10) (10000, 32, 32, 3) (10000, 10) (10000, 32, 32, 3) (10000, 10)\n"
     ]
    }
   ],
   "source": [
    "import numpy as np; import matplotlib.pyplot as plt\n",
    "import os; os.environ['TF_CPP_MIN_LOG_LEVEL'] = '2'\n",
    "import keras; from keras import layers\n",
    "keras.utils.set_random_seed(23)\n",
    "(x_train_val, y_train_val), (x_test, y_test) = keras.datasets.cifar10.load_data()\n",
    "x_train_val = x_train_val.astype(\"float32\")\n",
    "x_test = x_test.astype(\"float32\")\n",
    "y_train_val = keras.utils.to_categorical(y_train_val, 10)\n",
    "y_test = keras.utils.to_categorical(y_test, 10)\n",
    "x_train = x_train_val[:-10000]; x_val = x_train_val[-10000:]\n",
    "y_train = y_train_val[:-10000]; y_val = y_train_val[-10000:]\n",
    "print(x_train.shape, y_train.shape, x_val.shape, y_val.shape, x_test.shape, y_test.shape)"
   ]
  },
  {
   "cell_type": "markdown",
   "metadata": {},
   "source": [
    "### Construcción del modelo: ResNet50V2 descabezada con entrada ajustada y nueva cabeza entrenable"
   ]
  },
  {
   "cell_type": "code",
   "execution_count": 18,
   "metadata": {},
   "outputs": [],
   "source": [
    "inputs = keras.Input(shape=(32, 32, 3))\n",
    "x = layers.Rescaling(scale=1 / 127.5, offset=-1)(inputs)\n",
    "x = layers.Resizing(224, 224, interpolation=\"nearest\")(x)\n",
    "base_M = keras.applications.resnet_v2.ResNet50V2(include_top=False)\n",
    "base_M.trainable = False\n",
    "x = base_M(x, training=False)\n",
    "x = layers.GlobalAveragePooling2D()(x)\n",
    "x = layers.Dense(units=800, activation='relu')(x)\n",
    "x = layers.Dropout(0.5)(x)\n",
    "predictions = layers.Dense(10, activation='softmax')(x)\n",
    "M = keras.models.Model(inputs=inputs, outputs=predictions)\n",
    "opt = keras.optimizers.Adam(learning_rate=0.001)\n",
    "M.compile(loss=\"categorical_crossentropy\", optimizer=opt, metrics=[\"accuracy\"])"
   ]
  },
  {
   "cell_type": "markdown",
   "metadata": {},
   "source": [
    "#### Entrenamiento del modelo: guardamos el mejor modelo con un callback checkpoint"
   ]
  },
  {
   "cell_type": "code",
   "execution_count": 19,
   "metadata": {},
   "outputs": [
    {
     "name": "stdout",
     "output_type": "stream",
     "text": [
      "Epoch 1/25\n"
     ]
    },
    {
     "name": "stderr",
     "output_type": "stream",
     "text": [
      "WARNING: All log messages before absl::InitializeLog() is called are written to STDERR\n",
      "I0000 00:00:1733513079.886456   41414 service.cc:148] XLA service 0x7f9d44002210 initialized for platform CUDA (this does not guarantee that XLA will be used). Devices:\n",
      "I0000 00:00:1733513079.886885   41414 service.cc:156]   StreamExecutor device (0): NVIDIA GeForce RTX 3060, Compute Capability 8.6\n",
      "I0000 00:00:1733513080.830747   41414 cuda_dnn.cc:529] Loaded cuDNN version 90300\n"
     ]
    },
    {
     "name": "stdout",
     "output_type": "stream",
     "text": [
      "\u001b[1m 3/32\u001b[0m \u001b[32m━\u001b[0m\u001b[37m━━━━━━━━━━━━━━━━━━━\u001b[0m \u001b[1m1s\u001b[0m 43ms/step - accuracy: 0.1302 - loss: 3.1572 "
     ]
    },
    {
     "name": "stderr",
     "output_type": "stream",
     "text": [
      "I0000 00:00:1733513087.923925   41414 device_compiler.h:188] Compiled cluster using XLA!  This line is logged at most once for the lifetime of the process.\n"
     ]
    },
    {
     "name": "stdout",
     "output_type": "stream",
     "text": [
      "\u001b[1m32/32\u001b[0m \u001b[32m━━━━━━━━━━━━━━━━━━━━\u001b[0m\u001b[37m\u001b[0m \u001b[1m0s\u001b[0m 265ms/step - accuracy: 0.4551 - loss: 1.9126\n",
      "Epoch 1: val_accuracy improved from -inf to 0.79280, saving model to CIFAR10_transfer_learning.keras\n",
      "\u001b[1m32/32\u001b[0m \u001b[32m━━━━━━━━━━━━━━━━━━━━\u001b[0m\u001b[37m\u001b[0m \u001b[1m40s\u001b[0m 924ms/step - accuracy: 0.4596 - loss: 1.8955 - val_accuracy: 0.7928 - val_loss: 0.6238 - learning_rate: 0.0010\n",
      "Epoch 2/25\n",
      "\u001b[1m31/32\u001b[0m \u001b[32m━━━━━━━━━━━━━━━━━━━\u001b[0m\u001b[37m━\u001b[0m \u001b[1m0s\u001b[0m 42ms/step - accuracy: 0.8572 - loss: 0.4216\n",
      "Epoch 2: val_accuracy improved from 0.79280 to 0.81340, saving model to CIFAR10_transfer_learning.keras\n",
      "\u001b[1m32/32\u001b[0m \u001b[32m━━━━━━━━━━━━━━━━━━━━\u001b[0m\u001b[37m\u001b[0m \u001b[1m14s\u001b[0m 449ms/step - accuracy: 0.8578 - loss: 0.4200 - val_accuracy: 0.8134 - val_loss: 0.5817 - learning_rate: 0.0010\n",
      "Epoch 3/25\n",
      "\u001b[1m31/32\u001b[0m \u001b[32m━━━━━━━━━━━━━━━━━━━\u001b[0m\u001b[37m━\u001b[0m \u001b[1m0s\u001b[0m 43ms/step - accuracy: 0.9372 - loss: 0.2175\n",
      "Epoch 3: val_accuracy did not improve from 0.81340\n",
      "\u001b[1m32/32\u001b[0m \u001b[32m━━━━━━━━━━━━━━━━━━━━\u001b[0m\u001b[37m\u001b[0m \u001b[1m14s\u001b[0m 434ms/step - accuracy: 0.9370 - loss: 0.2171 - val_accuracy: 0.8055 - val_loss: 0.6048 - learning_rate: 0.0010\n",
      "Epoch 4/25\n",
      "\u001b[1m31/32\u001b[0m \u001b[32m━━━━━━━━━━━━━━━━━━━\u001b[0m\u001b[37m━\u001b[0m \u001b[1m0s\u001b[0m 43ms/step - accuracy: 0.9652 - loss: 0.1229\n",
      "Epoch 4: val_accuracy did not improve from 0.81340\n",
      "\u001b[1m32/32\u001b[0m \u001b[32m━━━━━━━━━━━━━━━━━━━━\u001b[0m\u001b[37m\u001b[0m \u001b[1m11s\u001b[0m 358ms/step - accuracy: 0.9652 - loss: 0.1231 - val_accuracy: 0.8053 - val_loss: 0.6515 - learning_rate: 0.0010\n",
      "Epoch 5/25\n",
      "\u001b[1m31/32\u001b[0m \u001b[32m━━━━━━━━━━━━━━━━━━━\u001b[0m\u001b[37m━\u001b[0m \u001b[1m0s\u001b[0m 42ms/step - accuracy: 0.9623 - loss: 0.1132\n",
      "Epoch 5: val_accuracy did not improve from 0.81340\n",
      "\u001b[1m32/32\u001b[0m \u001b[32m━━━━━━━━━━━━━━━━━━━━\u001b[0m\u001b[37m\u001b[0m \u001b[1m14s\u001b[0m 437ms/step - accuracy: 0.9625 - loss: 0.1126 - val_accuracy: 0.8023 - val_loss: 0.7223 - learning_rate: 0.0010\n",
      "Epoch 6/25\n",
      "\u001b[1m31/32\u001b[0m \u001b[32m━━━━━━━━━━━━━━━━━━━\u001b[0m\u001b[37m━\u001b[0m \u001b[1m0s\u001b[0m 42ms/step - accuracy: 0.9758 - loss: 0.0749\n",
      "Epoch 6: val_accuracy did not improve from 0.81340\n",
      "\u001b[1m32/32\u001b[0m \u001b[32m━━━━━━━━━━━━━━━━━━━━\u001b[0m\u001b[37m\u001b[0m \u001b[1m11s\u001b[0m 357ms/step - accuracy: 0.9759 - loss: 0.0750 - val_accuracy: 0.7750 - val_loss: 0.9210 - learning_rate: 0.0010\n",
      "Epoch 7/25\n",
      "\u001b[1m31/32\u001b[0m \u001b[32m━━━━━━━━━━━━━━━━━━━\u001b[0m\u001b[37m━\u001b[0m \u001b[1m0s\u001b[0m 43ms/step - accuracy: 0.9517 - loss: 0.1238\n",
      "Epoch 7: val_accuracy did not improve from 0.81340\n",
      "\u001b[1m32/32\u001b[0m \u001b[32m━━━━━━━━━━━━━━━━━━━━\u001b[0m\u001b[37m\u001b[0m \u001b[1m14s\u001b[0m 440ms/step - accuracy: 0.9526 - loss: 0.1216 - val_accuracy: 0.7832 - val_loss: 0.8656 - learning_rate: 0.0010\n",
      "Epoch 8/25\n",
      "\u001b[1m31/32\u001b[0m \u001b[32m━━━━━━━━━━━━━━━━━━━\u001b[0m\u001b[37m━\u001b[0m \u001b[1m0s\u001b[0m 44ms/step - accuracy: 0.9669 - loss: 0.1138\n",
      "Epoch 8: val_accuracy improved from 0.81340 to 0.83160, saving model to CIFAR10_transfer_learning.keras\n",
      "\u001b[1m32/32\u001b[0m \u001b[32m━━━━━━━━━━━━━━━━━━━━\u001b[0m\u001b[37m\u001b[0m \u001b[1m14s\u001b[0m 456ms/step - accuracy: 0.9673 - loss: 0.1123 - val_accuracy: 0.8316 - val_loss: 0.6071 - learning_rate: 3.0000e-04\n",
      "Epoch 9/25\n",
      "\u001b[1m 5/32\u001b[0m \u001b[32m━━━\u001b[0m\u001b[37m━━━━━━━━━━━━━━━━━\u001b[0m \u001b[1m1s\u001b[0m 43ms/step - accuracy: 0.9688 - loss: 0.0863\n",
      "Epoch 9: val_accuracy did not improve from 0.83160\n",
      "\u001b[1m32/32\u001b[0m \u001b[32m━━━━━━━━━━━━━━━━━━━━\u001b[0m\u001b[37m\u001b[0m \u001b[1m11s\u001b[0m 357ms/step - accuracy: 0.9832 - loss: 0.0474 - val_accuracy: 0.8314 - val_loss: 0.6130 - learning_rate: 3.0000e-04\n",
      "Epoch 10/25\n",
      "\u001b[1m31/32\u001b[0m \u001b[32m━━━━━━━━━━━━━━━━━━━\u001b[0m\u001b[37m━\u001b[0m \u001b[1m0s\u001b[0m 43ms/step - accuracy: 0.9998 - loss: 0.0127\n",
      "Epoch 10: val_accuracy did not improve from 0.83160\n",
      "\u001b[1m32/32\u001b[0m \u001b[32m━━━━━━━━━━━━━━━━━━━━\u001b[0m\u001b[37m\u001b[0m \u001b[1m14s\u001b[0m 438ms/step - accuracy: 0.9997 - loss: 0.0129 - val_accuracy: 0.8303 - val_loss: 0.6108 - learning_rate: 3.0000e-04\n",
      "Epoch 11/25\n",
      "\u001b[1m32/32\u001b[0m \u001b[32m━━━━━━━━━━━━━━━━━━━━\u001b[0m\u001b[37m\u001b[0m \u001b[1m0s\u001b[0m 43ms/step - accuracy: 0.9952 - loss: 0.0228\n",
      "Epoch 11: val_accuracy improved from 0.83160 to 0.83210, saving model to CIFAR10_transfer_learning.keras\n",
      "\u001b[1m32/32\u001b[0m \u001b[32m━━━━━━━━━━━━━━━━━━━━\u001b[0m\u001b[37m\u001b[0m \u001b[1m12s\u001b[0m 385ms/step - accuracy: 0.9953 - loss: 0.0227 - val_accuracy: 0.8321 - val_loss: 0.6060 - learning_rate: 3.0000e-04\n",
      "Epoch 12/25\n",
      "\u001b[1m31/32\u001b[0m \u001b[32m━━━━━━━━━━━━━━━━━━━\u001b[0m\u001b[37m━\u001b[0m \u001b[1m0s\u001b[0m 43ms/step - accuracy: 0.9979 - loss: 0.0130\n",
      "Epoch 12: val_accuracy did not improve from 0.83210\n",
      "\u001b[1m32/32\u001b[0m \u001b[32m━━━━━━━━━━━━━━━━━━━━\u001b[0m\u001b[37m\u001b[0m \u001b[1m14s\u001b[0m 436ms/step - accuracy: 0.9979 - loss: 0.0130 - val_accuracy: 0.8316 - val_loss: 0.6182 - learning_rate: 3.0000e-04\n",
      "Epoch 13/25\n",
      "\u001b[1m31/32\u001b[0m \u001b[32m━━━━━━━━━━━━━━━━━━━\u001b[0m\u001b[37m━\u001b[0m \u001b[1m0s\u001b[0m 42ms/step - accuracy: 1.0000 - loss: 0.0079\n",
      "Epoch 13: val_accuracy did not improve from 0.83210\n",
      "\u001b[1m32/32\u001b[0m \u001b[32m━━━━━━━━━━━━━━━━━━━━\u001b[0m\u001b[37m\u001b[0m \u001b[1m11s\u001b[0m 353ms/step - accuracy: 1.0000 - loss: 0.0080 - val_accuracy: 0.8307 - val_loss: 0.6211 - learning_rate: 3.0000e-04\n",
      "Epoch 14/25\n",
      "\u001b[1m31/32\u001b[0m \u001b[32m━━━━━━━━━━━━━━━━━━━\u001b[0m\u001b[37m━\u001b[0m \u001b[1m0s\u001b[0m 42ms/step - accuracy: 0.9996 - loss: 0.0093\n",
      "Epoch 14: val_accuracy improved from 0.83210 to 0.83220, saving model to CIFAR10_transfer_learning.keras\n",
      "\u001b[1m32/32\u001b[0m \u001b[32m━━━━━━━━━━━━━━━━━━━━\u001b[0m\u001b[37m\u001b[0m \u001b[1m14s\u001b[0m 453ms/step - accuracy: 0.9995 - loss: 0.0094 - val_accuracy: 0.8322 - val_loss: 0.6194 - learning_rate: 9.0000e-05\n",
      "Epoch 15/25\n",
      "\u001b[1m31/32\u001b[0m \u001b[32m━━━━━━━━━━━━━━━━━━━\u001b[0m\u001b[37m━\u001b[0m \u001b[1m0s\u001b[0m 43ms/step - accuracy: 0.9999 - loss: 0.0077\n",
      "Epoch 15: val_accuracy did not improve from 0.83220\n",
      "\u001b[1m32/32\u001b[0m \u001b[32m━━━━━━━━━━━━━━━━━━━━\u001b[0m\u001b[37m\u001b[0m \u001b[1m14s\u001b[0m 435ms/step - accuracy: 0.9998 - loss: 0.0079 - val_accuracy: 0.8321 - val_loss: 0.6177 - learning_rate: 9.0000e-05\n",
      "Epoch 16/25\n",
      "\u001b[1m11/32\u001b[0m \u001b[32m━━━━━━\u001b[0m\u001b[37m━━━━━━━━━━━━━━\u001b[0m \u001b[1m0s\u001b[0m 42ms/step - accuracy: 0.9984 - loss: 0.0084\n",
      "Epoch 16: val_accuracy improved from 0.83220 to 0.83240, saving model to CIFAR10_transfer_learning.keras\n",
      "\u001b[1m32/32\u001b[0m \u001b[32m━━━━━━━━━━━━━━━━━━━━\u001b[0m\u001b[37m\u001b[0m \u001b[1m12s\u001b[0m 372ms/step - accuracy: 0.9984 - loss: 0.0094 - val_accuracy: 0.8324 - val_loss: 0.6160 - learning_rate: 9.0000e-05\n",
      "Epoch 17/25\n",
      "\u001b[1m31/32\u001b[0m \u001b[32m━━━━━━━━━━━━━━━━━━━\u001b[0m\u001b[37m━\u001b[0m \u001b[1m0s\u001b[0m 42ms/step - accuracy: 1.0000 - loss: 0.0095\n",
      "Epoch 17: val_accuracy did not improve from 0.83240\n",
      "\u001b[1m32/32\u001b[0m \u001b[32m━━━━━━━━━━━━━━━━━━━━\u001b[0m\u001b[37m\u001b[0m \u001b[1m13s\u001b[0m 434ms/step - accuracy: 1.0000 - loss: 0.0095 - val_accuracy: 0.8323 - val_loss: 0.6167 - learning_rate: 9.0000e-05\n",
      "Epoch 18/25\n",
      "\u001b[1m31/32\u001b[0m \u001b[32m━━━━━━━━━━━━━━━━━━━\u001b[0m\u001b[37m━\u001b[0m \u001b[1m0s\u001b[0m 42ms/step - accuracy: 1.0000 - loss: 0.0055\n",
      "Epoch 18: val_accuracy improved from 0.83240 to 0.83370, saving model to CIFAR10_transfer_learning.keras\n",
      "\u001b[1m32/32\u001b[0m \u001b[32m━━━━━━━━━━━━━━━━━━━━\u001b[0m\u001b[37m\u001b[0m \u001b[1m12s\u001b[0m 371ms/step - accuracy: 1.0000 - loss: 0.0056 - val_accuracy: 0.8337 - val_loss: 0.6179 - learning_rate: 9.0000e-05\n",
      "Epoch 19/25\n",
      "\u001b[1m31/32\u001b[0m \u001b[32m━━━━━━━━━━━━━━━━━━━\u001b[0m\u001b[37m━\u001b[0m \u001b[1m0s\u001b[0m 42ms/step - accuracy: 1.0000 - loss: 0.0065\n",
      "Epoch 19: val_accuracy did not improve from 0.83370\n",
      "\u001b[1m32/32\u001b[0m \u001b[32m━━━━━━━━━━━━━━━━━━━━\u001b[0m\u001b[37m\u001b[0m \u001b[1m14s\u001b[0m 434ms/step - accuracy: 1.0000 - loss: 0.0066 - val_accuracy: 0.8337 - val_loss: 0.6206 - learning_rate: 9.0000e-05\n",
      "Epoch 20/25\n",
      "\u001b[1m31/32\u001b[0m \u001b[32m━━━━━━━━━━━━━━━━━━━\u001b[0m\u001b[37m━\u001b[0m \u001b[1m0s\u001b[0m 42ms/step - accuracy: 1.0000 - loss: 0.0057\n",
      "Epoch 20: val_accuracy did not improve from 0.83370\n",
      "\u001b[1m32/32\u001b[0m \u001b[32m━━━━━━━━━━━━━━━━━━━━\u001b[0m\u001b[37m\u001b[0m \u001b[1m11s\u001b[0m 353ms/step - accuracy: 1.0000 - loss: 0.0057 - val_accuracy: 0.8334 - val_loss: 0.6225 - learning_rate: 9.0000e-05\n",
      "Epoch 21/25\n",
      "\u001b[1m31/32\u001b[0m \u001b[32m━━━━━━━━━━━━━━━━━━━\u001b[0m\u001b[37m━\u001b[0m \u001b[1m0s\u001b[0m 42ms/step - accuracy: 0.9990 - loss: 0.0070\n",
      "Epoch 21: val_accuracy improved from 0.83370 to 0.83470, saving model to CIFAR10_transfer_learning.keras\n",
      "\u001b[1m32/32\u001b[0m \u001b[32m━━━━━━━━━━━━━━━━━━━━\u001b[0m\u001b[37m\u001b[0m \u001b[1m14s\u001b[0m 452ms/step - accuracy: 0.9990 - loss: 0.0070 - val_accuracy: 0.8347 - val_loss: 0.6234 - learning_rate: 9.0000e-05\n",
      "Epoch 22/25\n",
      "\u001b[1m31/32\u001b[0m \u001b[32m━━━━━━━━━━━━━━━━━━━\u001b[0m\u001b[37m━\u001b[0m \u001b[1m0s\u001b[0m 42ms/step - accuracy: 1.0000 - loss: 0.0052\n",
      "Epoch 22: val_accuracy did not improve from 0.83470\n",
      "\u001b[1m32/32\u001b[0m \u001b[32m━━━━━━━━━━━━━━━━━━━━\u001b[0m\u001b[37m\u001b[0m \u001b[1m14s\u001b[0m 434ms/step - accuracy: 1.0000 - loss: 0.0052 - val_accuracy: 0.8341 - val_loss: 0.6242 - learning_rate: 9.0000e-05\n",
      "Epoch 23/25\n",
      "\u001b[1m25/32\u001b[0m \u001b[32m━━━━━━━━━━━━━━━\u001b[0m\u001b[37m━━━━━\u001b[0m \u001b[1m0s\u001b[0m 42ms/step - accuracy: 1.0000 - loss: 0.0068\n",
      "Epoch 23: val_accuracy improved from 0.83470 to 0.83540, saving model to CIFAR10_transfer_learning.keras\n",
      "\u001b[1m32/32\u001b[0m \u001b[32m━━━━━━━━━━━━━━━━━━━━\u001b[0m\u001b[37m\u001b[0m \u001b[1m12s\u001b[0m 372ms/step - accuracy: 1.0000 - loss: 0.0069 - val_accuracy: 0.8354 - val_loss: 0.6252 - learning_rate: 9.0000e-05\n",
      "Epoch 24/25\n",
      "\u001b[1m31/32\u001b[0m \u001b[32m━━━━━━━━━━━━━━━━━━━\u001b[0m\u001b[37m━\u001b[0m \u001b[1m0s\u001b[0m 42ms/step - accuracy: 1.0000 - loss: 0.0058\n",
      "Epoch 24: val_accuracy did not improve from 0.83540\n",
      "\u001b[1m32/32\u001b[0m \u001b[32m━━━━━━━━━━━━━━━━━━━━\u001b[0m\u001b[37m\u001b[0m \u001b[1m14s\u001b[0m 434ms/step - accuracy: 1.0000 - loss: 0.0058 - val_accuracy: 0.8342 - val_loss: 0.6253 - learning_rate: 9.0000e-05\n",
      "Epoch 25/25\n",
      "\u001b[1m31/32\u001b[0m \u001b[32m━━━━━━━━━━━━━━━━━━━\u001b[0m\u001b[37m━\u001b[0m \u001b[1m0s\u001b[0m 42ms/step - accuracy: 1.0000 - loss: 0.0054\n",
      "Epoch 25: val_accuracy did not improve from 0.83540\n",
      "\u001b[1m32/32\u001b[0m \u001b[32m━━━━━━━━━━━━━━━━━━━━\u001b[0m\u001b[37m\u001b[0m \u001b[1m11s\u001b[0m 354ms/step - accuracy: 1.0000 - loss: 0.0054 - val_accuracy: 0.8350 - val_loss: 0.6257 - learning_rate: 9.0000e-05\n"
     ]
    }
   ],
   "source": [
    "filename = 'CIFAR10_transfer_learning.keras'\n",
    "checkpoint_cb = keras.callbacks.ModelCheckpoint(\n",
    "filepath=filename, monitor='val_accuracy', save_best_only=True, verbose=1)\n",
    "reduce_cb = keras.callbacks.ReduceLROnPlateau(\n",
    "monitor='val_accuracy', factor=0.3, patience=5, min_delta=0.0005, min_lr=0.0)\n",
    "early_cb = keras.callbacks.EarlyStopping(monitor='val_accuracy', patience=10, min_delta=0.0005)\n",
    "H = M.fit(x_train[:1000], y_train[:1000], batch_size=32, epochs=25, validation_data=(x_val, y_val), verbose=1,\n",
    "callbacks=[checkpoint_cb, early_cb, reduce_cb])"
   ]
  },
  {
   "cell_type": "markdown",
   "metadata": {},
   "source": [
    "### Grafica y resultados"
   ]
  },
  {
   "cell_type": "code",
   "execution_count": 20,
   "metadata": {},
   "outputs": [
    {
     "data": {
      "image/png": "[encoded data removed]",
      "text/plain": [
       "<Figure size 900x350 with 2 Axes>"
      ]
     },
     "metadata": {},
     "output_type": "display_data"
    }
   ],
   "source": [
    "fig, axes = plt.subplots(1, 2, figsize=(9, 3.5)); plt.subplots_adjust(wspace=0.3)\n",
    "xx = np.arange(1, len(H.history['loss'])+1)\n",
    "ax = axes[0]; ax.grid(); # ax.set_xticks(xx)\n",
    "ax.set_xlabel('epoch'); ax.set_ylabel('loss')\n",
    "ax.plot(xx, H.history['loss'], color='b', label='train')\n",
    "ax.plot(xx, H.history['val_loss'], color='r', label='val'); ax.legend()\n",
    "ax = axes[1]; ax.grid(); # ax.set_xticks(xx)\n",
    "ax.set_xlabel('epoch'); ax.set_ylabel('accuracy')\n",
    "ax.plot(xx, H.history['accuracy'], color='b', label='train')\n",
    "ax.plot(xx, H.history['val_accuracy'], color='r', label='val'); ax.legend();"
   ]
  },
  {
   "cell_type": "code",
   "execution_count": 21,
   "metadata": {},
   "outputs": [
    {
     "name": "stdout",
     "output_type": "stream",
     "text": [
      "Loss: 0.636 Precisión: 83.39%\n"
     ]
    }
   ],
   "source": [
    "score = keras.models.load_model(filename).evaluate(x_test, y_test, verbose=0)\n",
    "print(f'Loss: {score[0]:.4} Precisión: {score[1]:.2%}')"
   ]
  }
 ],
 "metadata": {
  "kernelspec": {
   "display_name": "tf217",
   "language": "python",
   "name": "tf217"
  },
  "language_info": {
   "codemirror_mode": {
    "name": "ipython",
    "version": 3
   },
   "file_extension": ".py",
   "mimetype": "text/x-python",
   "name": "python",
   "nbconvert_exporter": "python",
   "pygments_lexer": "ipython3",
   "version": "3.10.15"
  }
 },
 "nbformat": 4,
 "nbformat_minor": 2
}
